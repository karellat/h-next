{
 "cells": [
  {
   "cell_type": "code",
   "execution_count": 1,
   "outputs": [
    {
     "name": "stderr",
     "output_type": "stream",
     "text": [
      "GPU available: True (cuda), used: True\n",
      "TPU available: False, using: 0 TPU cores\n",
      "IPU available: False, using: 0 IPUs\n",
      "HPU available: False, using: 0 HPUs\n"
     ]
    }
   ],
   "source": [
    "import os\n",
    "import json\n",
    "import torch\n",
    "\n",
    "from models import get_model, InvariantNet\n",
    "from data import get_datamodule\n",
    "from torchsummary import summary\n",
    "import pytorch_lightning as pl\n",
    "torch.set_float32_matmul_precision('high')\n",
    "\n",
    "def load_model(model_name, device):\n",
    "    model_path = f\"{model_name}.ckpt\"\n",
    "    assert os.path.exists(model_path), f\"There is no model at {model_path}\"\n",
    "    with open(f\"{model_name}.json\") as config_file:\n",
    "        config = json.load(config_file)\n",
    "    model = torch.load(model_path, map_location=device)\n",
    "    state_dict = model['state_dict']\n",
    "    datamodule = get_datamodule(config['datamodule_name'])(**config['datamodule_hparams'])\n",
    "    hnet_backbone = get_model(model_name=config['backbone_name'],\n",
    "                              model_hparams=config['backbone_hparams'])\n",
    "    pred_net = get_model(model_name=config['classnet_name'],\n",
    "                         model_hparams=config['classnet_hparams'])\n",
    "\n",
    "    # model\n",
    "    model = InvariantNet(hnet_backbone,\n",
    "                         pred_net,\n",
    "                         input_shape=datamodule.sample_input_shape,\n",
    "                         log_invariance=False)\n",
    "    model.load_state_dict(state_dict)\n",
    "    model.freeze()\n",
    "    datamodule.setup('')\n",
    "    return datamodule, model\n",
    "\n",
    "trainer = pl.Trainer(accelerator=\"gpu\" if torch.cuda.is_available() else \"auto\",\n",
    "                     devices=1)"
   ],
   "metadata": {
    "collapsed": false,
    "ExecuteTime": {
     "start_time": "2023-05-25T09:52:01.937152Z",
     "end_time": "2023-05-25T09:52:03.855604Z"
    }
   }
  },
  {
   "cell_type": "markdown",
   "source": [
    "# Choose model\n",
    "* e.g. \"./data/models/MNIST/H-Nets\" from [data/models](./data/models)"
   ],
   "metadata": {
    "collapsed": false
   }
  },
  {
   "cell_type": "code",
   "execution_count": 2,
   "outputs": [
    {
     "name": "stdout",
     "output_type": "stream",
     "text": [
      "Downloading http://www.iro.umontreal.ca/~lisa/icml2007data/mnist_rotation_new.zip to data/mnist_rotation_new.zip\n"
     ]
    },
    {
     "data": {
      "text/plain": "  0%|          | 0/58424278 [00:00<?, ?it/s]",
      "application/vnd.jupyter.widget-view+json": {
       "version_major": 2,
       "version_minor": 0,
       "model_id": "20c4dd6ff96f4ec0bc1eaa7267e5dade"
      }
     },
     "metadata": {},
     "output_type": "display_data"
    },
    {
     "name": "stdout",
     "output_type": "stream",
     "text": [
      "Extracting data/mnist_rotation_new.zip to data\n"
     ]
    }
   ],
   "source": [
    "device = torch.device('cuda' if torch.cuda.is_available() else 'cpu')\n",
    "artifact_name = \"./data/models/rot-MNIST/UP+MASK\"\n",
    "ds, model = load_model(artifact_name, device)"
   ],
   "metadata": {
    "collapsed": false,
    "ExecuteTime": {
     "start_time": "2023-05-25T09:52:03.856902Z",
     "end_time": "2023-05-25T09:53:30.374623Z"
    }
   }
  },
  {
   "cell_type": "markdown",
   "source": [],
   "metadata": {
    "collapsed": false
   }
  },
  {
   "cell_type": "markdown",
   "source": [
    "# Model Summary"
   ],
   "metadata": {
    "collapsed": false
   }
  },
  {
   "cell_type": "code",
   "execution_count": 3,
   "outputs": [
    {
     "name": "stdout",
     "output_type": "stream",
     "text": [
      "==========================================================================================\n",
      "Layer (type:depth-idx)                   Output Shape              Param #\n",
      "==========================================================================================\n",
      "├─UpscaleHnetBackbone: 1-1               [-1, 16, 16, 10]          --\n",
      "|    └─Upsample: 2-1                     [-1, 1, 64, 64]           --\n",
      "|    └─HView: 2-2                        [-1, 64, 64, 1, 1, 1]     --\n",
      "|    └─Sequential: 2-3                   [-1, 32, 32, 3, 2, 8]     --\n",
      "|    |    └─UpscaleHConv2d: 3-1          [-1, 64, 64, 3, 2, 8]     (9,394)\n",
      "|    |    └─HNonlin: 3-2                 [-1, 64, 64, 3, 2, 8]     (24)\n",
      "|    |    └─UpscaleHConv2d: 3-3          [-1, 64, 64, 3, 2, 8]     (10,066)\n",
      "|    |    └─HBatchNorm: 3-4              [-1, 64, 64, 3, 2, 8]     (16)\n",
      "|    |    └─HMeanPool: 3-5               [-1, 32, 32, 3, 2, 8]     --\n",
      "|    └─Sequential: 2-4                   [-1, 16, 16, 3, 2, 16]    --\n",
      "|    |    └─UpscaleHConv2d: 3-6          [-1, 32, 32, 3, 2, 16]    (7,762)\n",
      "|    |    └─HNonlin: 3-7                 [-1, 32, 32, 3, 2, 16]    (48)\n",
      "|    |    └─UpscaleHConv2d: 3-8          [-1, 32, 32, 3, 2, 16]    (9,298)\n",
      "|    |    └─HBatchNorm: 3-9              [-1, 32, 32, 3, 2, 16]    (32)\n",
      "|    |    └─HMeanPool: 3-10              [-1, 16, 16, 3, 2, 16]    --\n",
      "|    └─Sequential: 2-5                   [-1, 16, 16, 3, 2, 32]    --\n",
      "|    |    └─UpscaleHConv2d: 3-11         [-1, 16, 16, 3, 2, 32]    (11,602)\n",
      "|    |    └─HNonlin: 3-12                [-1, 16, 16, 3, 2, 32]    (96)\n",
      "|    |    └─UpscaleHConv2d: 3-13         [-1, 16, 16, 3, 2, 32]    (17,746)\n",
      "|    |    └─HBatchNorm: 3-14             [-1, 16, 16, 3, 2, 32]    (64)\n",
      "|    └─UpscaleHConv2d: 2-6               [-1, 16, 16, 1, 2, 10]    --\n",
      "|    └─HSumMagnitutes: 2-7               [-1, 16, 16, 10]          --\n",
      "├─HnetPooling: 1-2                       [-1, 10]                  (10)\n",
      "==========================================================================================\n",
      "Total params: 66,158\n",
      "Trainable params: 0\n",
      "Non-trainable params: 66,158\n",
      "Total mult-adds (M): 0.06\n",
      "==========================================================================================\n",
      "Input size (MB): 0.00\n",
      "Forward/backward pass size (MB): 3.94\n",
      "Params size (MB): 0.25\n",
      "Estimated Total Size (MB): 4.19\n",
      "==========================================================================================\n"
     ]
    }
   ],
   "source": [
    "_ = summary(model, input_data=ds.sample_input_shape[1:])"
   ],
   "metadata": {
    "collapsed": false,
    "ExecuteTime": {
     "start_time": "2023-05-25T09:53:30.377366Z",
     "end_time": "2023-05-25T09:53:31.528210Z"
    }
   }
  },
  {
   "cell_type": "markdown",
   "source": [
    "# Test Accuracy"
   ],
   "metadata": {
    "collapsed": false
   }
  },
  {
   "cell_type": "code",
   "execution_count": 4,
   "outputs": [
    {
     "name": "stderr",
     "output_type": "stream",
     "text": [
      "LOCAL_RANK: 0 - CUDA_VISIBLE_DEVICES: [0,1]\n"
     ]
    },
    {
     "data": {
      "text/plain": "Testing: 0it [00:00, ?it/s]",
      "application/vnd.jupyter.widget-view+json": {
       "version_major": 2,
       "version_minor": 0,
       "model_id": "4d2f7d04e21840cbbbf629a6e96c9cc5"
      }
     },
     "metadata": {},
     "output_type": "display_data"
    },
    {
     "data": {
      "text/plain": "┏━━━━━━━━━━━━━━━━━━━━━━━━━━━┳━━━━━━━━━━━━━━━━━━━━━━━━━━━┓\n┃\u001B[1m \u001B[0m\u001B[1m       Test metric       \u001B[0m\u001B[1m \u001B[0m┃\u001B[1m \u001B[0m\u001B[1m      DataLoader 0       \u001B[0m\u001B[1m \u001B[0m┃\n┡━━━━━━━━━━━━━━━━━━━━━━━━━━━╇━━━━━━━━━━━━━━━━━━━━━━━━━━━┩\n│\u001B[36m \u001B[0m\u001B[36m        test_acc         \u001B[0m\u001B[36m \u001B[0m│\u001B[35m \u001B[0m\u001B[35m   0.9860000014305115    \u001B[0m\u001B[35m \u001B[0m│\n│\u001B[36m \u001B[0m\u001B[36m        test_loss        \u001B[0m\u001B[36m \u001B[0m│\u001B[35m \u001B[0m\u001B[35m   0.1551932543516159    \u001B[0m\u001B[35m \u001B[0m│\n└───────────────────────────┴───────────────────────────┘\n",
      "text/html": "<pre style=\"white-space:pre;overflow-x:auto;line-height:normal;font-family:Menlo,'DejaVu Sans Mono',consolas,'Courier New',monospace\">┏━━━━━━━━━━━━━━━━━━━━━━━━━━━┳━━━━━━━━━━━━━━━━━━━━━━━━━━━┓\n┃<span style=\"font-weight: bold\">        Test metric        </span>┃<span style=\"font-weight: bold\">       DataLoader 0        </span>┃\n┡━━━━━━━━━━━━━━━━━━━━━━━━━━━╇━━━━━━━━━━━━━━━━━━━━━━━━━━━┩\n│<span style=\"color: #008080; text-decoration-color: #008080\">         test_acc          </span>│<span style=\"color: #800080; text-decoration-color: #800080\">    0.9860000014305115     </span>│\n│<span style=\"color: #008080; text-decoration-color: #008080\">         test_loss         </span>│<span style=\"color: #800080; text-decoration-color: #800080\">    0.1551932543516159     </span>│\n└───────────────────────────┴───────────────────────────┘\n</pre>\n"
     },
     "metadata": {},
     "output_type": "display_data"
    }
   ],
   "source": [
    "_ = trainer.test(model=model,\n",
    "                 datamodule=ds,\n",
    "                 verbose=True)"
   ],
   "metadata": {
    "collapsed": false,
    "ExecuteTime": {
     "start_time": "2023-05-25T09:53:31.528106Z",
     "end_time": "2023-05-25T09:54:32.523778Z"
    }
   }
  }
 ],
 "metadata": {
  "kernelspec": {
   "name": "h-next",
   "language": "python",
   "display_name": "h-next"
  },
  "language_info": {
   "codemirror_mode": {
    "name": "ipython",
    "version": 2
   },
   "file_extension": ".py",
   "mimetype": "text/x-python",
   "name": "python",
   "nbconvert_exporter": "python",
   "pygments_lexer": "ipython2",
   "version": "2.7.6"
  }
 },
 "nbformat": 4,
 "nbformat_minor": 0
}
